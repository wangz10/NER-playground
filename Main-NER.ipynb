{
 "cells": [
  {
   "cell_type": "markdown",
   "metadata": {},
   "source": [
    "# Introduction to Named-Entity Recognition\n",
    "\n",
    "---\n",
    "\n",
    "## _Zichen Wang_\n",
    "## _Ma'ayan Lab Meeting_\n",
    "## _July 19th, 2018_\n",
    "\n",
    "---"
   ]
  },
  {
   "cell_type": "markdown",
   "metadata": {},
   "source": [
    "# 0. Motivation\n",
    "\n",
    "- Through the [ARCHS4](https://amp.pharm.mssm.edu/archs4/) and [CREEDS](https://amp.pharm.mssm.edu/CREEDS/) projects, our lab has reprocessed hundreds of thousands publicly available gene expression samples, and extracted gene expression signatures from studies that compared normal and disease tissues, or from studies that compared cells and tissue before and after drug or single gene perturbation. We have established and benchmarked pipelines for reprocessing both microarray and RNA-seq datasets. \n",
    "\n",
    "- However, the metadata that is associated with these datasets are mostly unstructured text ([an example](https://www.ncbi.nlm.nih.gov/geo/query/acc.cgi?acc=GSE26910)). This makes extracting signatures from these data a duanting manual task that is not scalable.\n",
    "\n",
    "- Hence, we wish to automatically or semi-automatically identify the biological/biomedical entities of interest from the free text to be able to better annotate samples and extarct signatures\n. Specifically, we mostly care about the following biological and biomedical entities:",
    "    + genes\n",
    "    + cell types\n",
    "    + tissue types\n",
    "    + cell lines\n",
    "    + diseases\n",
    "    + drugs/chemicals \n",
    "    \n"
   ]
  },
  {
   "cell_type": "markdown",
   "metadata": {},
   "source": [
    "# 1. Introduction\n",
    "\n",
    "**Natural Language Processing(NLP)**: is an area of research from Computer Science and a subset of Artificial Intelligence. NLP is concerned with making computers perform a human task, iterperting and understanding (natural) languages. In particular, NLP is the programming of computers to process and analyze large amounts of natural language data.\n",
    "\n",
    "**NLP tasks can be divided into three sub-categories based on their increasing difficulty:**\n",
    "1. Text annotation tasks:\n",
    "    a. [Classify entire documents](https://github.com/wangz10/text-classification/blob/master/Main.ipynb), sentiment analysis, e-mail spam detection\n",
    "    b. Classify individual word tokens (Part-of-speech tagging)\n",
    "    c. **Identify phrases (NER)**\n",
    "    d. Syntactic annotation\n",
    "2. Generating new text:\n",
    "    a. Speech recognition from audio\n",
    "    b. Translation from another language: machine translation\n",
    "    c. Summarizing long documents: single- or multi-doc summarization\n",
    "    d. Image annotation: [add captions for images](http://deeplearning.cs.toronto.edu/i2t)\n",
    "3. Advanced tasks\n",
    "    a. Machine comprehension: anwser a question after reading a document\n",
    "        - [an example](https://www.kaggle.com/c/the-allen-ai-science-challenge/data)\n",
    "    b. Chat bot, Twitter bot\n",
    "    c. and more...\n"
   ]
  },
  {
   "cell_type": "markdown",
   "metadata": {},
   "source": [
    "**Named-entity recognition (NER)**: NLP task that seeks to locate and classify named entities in text into pre-defined categories such as the names of persons, organizations, locations, expressions of times, quantities, monetary values, percentages, etc.\n",
    "\n",
    "\n",
    "**Named entities (NEs)** are words or phrases which are categorized into certain topic. They usually carry key information in a sentence which serve as important targets for most language processing systems. \n",
    "\n",
    "\n",
    "NER can be split into two sub-tasks: \n",
    "0. **segmentation task** which is in charge of finding the start and the end of the sequence of words expressing an entity in a document\n",
    "0. **classification task** which is the labeling of entities into categories according to the NE tagset used.\n",
    "\n",
    "Commonly used classes in general-purpose NER:\n",
    "\n",
    "| Type  | Description|\n",
    "|---\t|---\t|\n",
    "| PER  \t|Named person or family.   \t|\n",
    "| LOC  \t|Name of politically or geographically defined location (cities, provinces, countries, international regions,bodies of water, mountains).   \t|\n",
    "| ORG  \t|Named corporate, governmental, or other organizational entity.   \t|\n",
    "| MISC  \t|Miscellaneous entities, e.g. events, nationalities, products or works of art.   \t|\n",
    "\n",
    "## Challenges\n",
    "\n",
    "- Ambiguity and flexibility of natural languages:\n",
    "    - A study from the **University of California, Berkeley**\n",
    "    - **Google** rebrands its business apps.     \n",
    "    - Let me **google** this for you.\n",
    "    - **Beijing**, **Washington** move closer to trade war as Donald Trump-led investigations target China\n",
    "\n",
    "- Synonyms and segmentation in biomedical research:\n",
    "\n",
    "**Na+/I- symporter (NIS)**- is a gene that its protein products mediates iodide uptake. It is important in radioiodine used as a therapy for thyroid cancer. NIS is also expressed in breast tumors, raising the potential for radionuclide therapy for breast cancer. However, NIS expression in most breast cancers is low and may not be sufficient for radionuclide therapy. A better understanding of the mechanisms of NIS regulation in breast cancer may lead to strategies for increasing cell surface NIS and radioactive iodide uptake (RAIU) in breast cancer. The MCF-7 cell line is the only human breast cancer cell line with inducible endogenous NIS expression. Kogai et al. [2000] first reported that **trans-retinoic acid (tRA)** induces NIS mRNA expression in MCF-7 cells and it was later reported that a combination treatment of **tRA and hydrocortisone (tRA/H)** further increases tRA-induced NIS expression/function in MCF-7 cells (Kogai et al., 2005; Dohan et al., 2006). In this study, we used gene expression profiling to identify genes that correlate with NIS expression in MCF-7 cells such that mechanisms underlying NIS modulation may be elucidated. MCF-7 cells were treated with DMSO vehicle, tRA (1µM), or **tRA(1µM)/H(1µM)** for 12 hours and total RNA was extracted. There are two replicates for each treatment group."
   ]
  },
  {
   "cell_type": "markdown",
   "metadata": {},
   "source": [
    "# 2. Approaches\n",
    "\n",
    "- Linguistic grammar-based/rule-based techniques\n",
    "- Statistical models\n",
    "    - Conditional random fields (CRFs) [Lafferty et al., 2001](https://dl.acm.org/citation.cfm?id=655813)\n",
    "    - Deep Learning approaches (embed, encode, attend, predict)\n"
   ]
  },
  {
   "cell_type": "markdown",
   "metadata": {},
   "source": [
    "# 3. Data: [The NCBI Disease Corpus](https://www.ncbi.nlm.nih.gov/CBBresearch/Dogan/DISEASE/)\n",
    "\n",
    "- 793 PubMed abstracts\n",
    "- 6,892 disease mentions\n",
    "- 790 unique disease concepts\n",
    "    + Medical Subject Headings (MeSH®)\n",
    "    + Online Mendelian Inheritance in Man (OMIM®)\n",
    "- 91% of the mentions map to a single disease concept\n",
    "- divided into training, developing and testing sets.\n",
    "- 14 (human) annotators\n",
    "- Two-annotators per document (randomly paired)\n",
    "- Four categories:\n",
    "    1. Specific Disease: **clear-cell renal cell carcinoma**\n",
    "    2. Disease Class: **cystic kidney diseases**\n",
    "    3. Composite mentions: **prostatic, pancreas, skin, and lung cancer**\n",
    "    4. Modifier (not a noun phrase): hereditary **breast cancer** families\n",
    "\n",
    "\n",
    "# 4. Experiments of NER algorithms on the data\n",
    "\n",
    "0. Synonym dictionary\n",
    "0. Rule-based approach\n",
    "0. [Conditional random fields](Rule-based_and_CRF.ipynb)\n",
    "0. spaCy's Deep Learning NERs\n",
    "0. ~~Bidirectional LSTM and CNN model by [Chiu and Nichols (2016)](https://arxiv.org/abs/1511.08308)~~"
   ]
  },
  {
   "cell_type": "markdown",
   "metadata": {},
   "source": [
    "## Load the data"
   ]
  },
  {
   "cell_type": "code",
   "execution_count": 1,
   "metadata": {},
   "outputs": [],
   "source": [
    "import re\n",
    "import random\n",
    "from collections import defaultdict\n",
    "import pandas as pd\n",
    "import numpy as np\n",
    "import nltk\n",
    "import spacy\n",
    "from spacy import displacy\n",
    "\n",
    "from datasets import parse_NCBI_disease_corpus\n",
    "from evaluations import *"
   ]
  },
  {
   "cell_type": "code",
   "execution_count": 2,
   "metadata": {},
   "outputs": [],
   "source": [
    "data_train = parse_NCBI_disease_corpus('data/NCBItrainset_corpus.txt')\n",
    "data_valid = parse_NCBI_disease_corpus('data/NCBIdevelopset_corpus.txt')\n",
    "data_test = parse_NCBI_disease_corpus('data/NCBItestset_corpus.txt')"
   ]
  },
  {
   "cell_type": "code",
   "execution_count": 3,
   "metadata": {},
   "outputs": [
    {
     "name": "stdout",
     "output_type": "stream",
     "text": [
      "593 100 100\n"
     ]
    }
   ],
   "source": [
    "print (len(data_train), len(data_valid), len(data_test))"
   ]
  },
  {
   "cell_type": "code",
   "execution_count": 4,
   "metadata": {},
   "outputs": [
    {
     "name": "stdout",
     "output_type": "stream",
     "text": [
      "----------Document----------\n",
      "A common human skin tumour is caused by activating mutations in beta-catenin.\n",
      "WNT signalling orchestrates a number of developmental programs. In response to this stimulus, cytoplasmic beta-catenin (encoded by CTNNB1) is stabilized, enabling downstream transcriptional activation by members of the LEF/TCF family. One of the target genes for beta-catenin/TCF encodes c-MYC, explaining why constitutive activation of the WNT pathway can lead to cancer, particularly in the colon. Most colon cancers arise from mutations in the gene encoding adenomatous polyposis coli (APC), a protein required for ubiquitin-mediated degradation of beta-catenin, but a small percentage of colon and some other cancers harbour beta-catenin-stabilizing mutations. Recently, we discovered that transgenic mice expressing an activated beta-catenin are predisposed to developing skin tumours resembling pilomatricomas. Given that the skin of these adult mice also exhibits signs of de novo hair-follicle morphogenesis, we wondered whether human pilomatricomas might originate from hair matrix cells and whether they might possess beta-catenin-stabilizing mutations. Here, we explore the cell origin and aetiology of this common human skin tumour. We found nuclear LEF-1 in the dividing tumour cells, providing biochemical evidence that pilomatricomas are derived from hair matrix cells. At least 75% of these tumours possess mutations affecting the amino-terminal segment, normally involved in phosphorylation-dependent, ubiquitin-mediated degradation of the protein. This percentage of CTNNB1 mutations is greater than in all other human tumours examined thus far, and directly implicates beta-catenin/LEF misregulation as the major cause of hair matrix cell tumorigenesis in humans.. \n",
      "----------Entities----------\n",
      "(15, 26, 'DiseaseClass') skin tumour\n",
      "(443, 449, 'DiseaseClass') cancer\n",
      "(483, 496, 'DiseaseClass') colon cancers\n",
      "(539, 565, 'SpecificDisease') adenomatous polyposis coli\n",
      "(567, 570, 'SpecificDisease') APC\n",
      "(670, 698, 'CompositeMention') colon and some other cancers\n",
      "(855, 867, 'DiseaseClass') skin tumours\n",
      "(879, 893, 'SpecificDisease') pilomatricomas\n",
      "(1021, 1035, 'SpecificDisease') pilomatricomas\n",
      "(1210, 1221, 'DiseaseClass') skin tumour\n",
      "(1262, 1268, 'Modifier') tumour\n",
      "(1312, 1326, 'SpecificDisease') pilomatricomas\n",
      "(1385, 1392, 'DiseaseClass') tumours\n",
      "(1615, 1622, 'DiseaseClass') tumours\n"
     ]
    }
   ],
   "source": [
    "# look at a document\n",
    "doc, entities = data_train[0]\n",
    "print('-'* 10 + 'Document' + '-'*10)\n",
    "print(doc)\n",
    "print('-'* 10 + 'Entities' + '-'*10)\n",
    "for ent in entities['entities']:\n",
    "    print (ent, doc[ent[0]:ent[1]])"
   ]
  },
  {
   "cell_type": "code",
   "execution_count": 5,
   "metadata": {},
   "outputs": [],
   "source": [
    "# Load a pre-trained English model from spaCy\n",
    "nlp = spacy.load('en_core_web_md')"
   ]
  },
  {
   "cell_type": "code",
   "execution_count": 6,
   "metadata": {},
   "outputs": [
    {
     "name": "stdout",
     "output_type": "stream",
     "text": [
      "LEF 297 300 ORG\n",
      "One 313 316 CARDINAL\n",
      "APC 567 570 ORG\n",
      "At least 75% 1363 1375 PERCENT\n",
      "LEF 1679 1682 ORG\n"
     ]
    }
   ],
   "source": [
    "# Perform NER on a document\n",
    "doc = nlp(data_train[0][0])\n",
    "for ent in doc.ents:\n",
    "    print(ent.text, ent.start_char, ent.end_char, ent.label_)"
   ]
  },
  {
   "cell_type": "code",
   "execution_count": 7,
   "metadata": {},
   "outputs": [
    {
     "data": {
      "text/html": [
       "<div class=\"entities\" style=\"line-height: 2.5\">A common human skin tumour is caused by activating mutations in beta-catenin.</br>WNT signalling orchestrates a number of developmental programs. In response to this stimulus, cytoplasmic beta-catenin (encoded by CTNNB1) is stabilized, enabling downstream transcriptional activation by members of the \n",
       "<mark class=\"entity\" style=\"background: #7aecec; padding: 0.45em 0.6em; margin: 0 0.25em; line-height: 1; border-radius: 0.35em; box-decoration-break: clone; -webkit-box-decoration-break: clone\">\n",
       "    LEF\n",
       "    <span style=\"font-size: 0.8em; font-weight: bold; line-height: 1; border-radius: 0.35em; text-transform: uppercase; vertical-align: middle; margin-left: 0.5rem\">ORG</span>\n",
       "</mark>\n",
       "/TCF family. \n",
       "<mark class=\"entity\" style=\"background: #e4e7d2; padding: 0.45em 0.6em; margin: 0 0.25em; line-height: 1; border-radius: 0.35em; box-decoration-break: clone; -webkit-box-decoration-break: clone\">\n",
       "    One\n",
       "    <span style=\"font-size: 0.8em; font-weight: bold; line-height: 1; border-radius: 0.35em; text-transform: uppercase; vertical-align: middle; margin-left: 0.5rem\">CARDINAL</span>\n",
       "</mark>\n",
       " of the target genes for beta-catenin/TCF encodes c-MYC, explaining why constitutive activation of the WNT pathway can lead to cancer, particularly in the colon. Most colon cancers arise from mutations in the gene encoding adenomatous polyposis coli (\n",
       "<mark class=\"entity\" style=\"background: #7aecec; padding: 0.45em 0.6em; margin: 0 0.25em; line-height: 1; border-radius: 0.35em; box-decoration-break: clone; -webkit-box-decoration-break: clone\">\n",
       "    APC\n",
       "    <span style=\"font-size: 0.8em; font-weight: bold; line-height: 1; border-radius: 0.35em; text-transform: uppercase; vertical-align: middle; margin-left: 0.5rem\">ORG</span>\n",
       "</mark>\n",
       "), a protein required for ubiquitin-mediated degradation of beta-catenin, but a small percentage of colon and some other cancers harbour beta-catenin-stabilizing mutations. Recently, we discovered that transgenic mice expressing an activated beta-catenin are predisposed to developing skin tumours resembling pilomatricomas. Given that the skin of these adult mice also exhibits signs of de novo hair-follicle morphogenesis, we wondered whether human pilomatricomas might originate from hair matrix cells and whether they might possess beta-catenin-stabilizing mutations. Here, we explore the cell origin and aetiology of this common human skin tumour. We found nuclear LEF-1 in the dividing tumour cells, providing biochemical evidence that pilomatricomas are derived from hair matrix cells. \n",
       "<mark class=\"entity\" style=\"background: #e4e7d2; padding: 0.45em 0.6em; margin: 0 0.25em; line-height: 1; border-radius: 0.35em; box-decoration-break: clone; -webkit-box-decoration-break: clone\">\n",
       "    At least 75%\n",
       "    <span style=\"font-size: 0.8em; font-weight: bold; line-height: 1; border-radius: 0.35em; text-transform: uppercase; vertical-align: middle; margin-left: 0.5rem\">PERCENT</span>\n",
       "</mark>\n",
       " of these tumours possess mutations affecting the amino-terminal segment, normally involved in phosphorylation-dependent, ubiquitin-mediated degradation of the protein. This percentage of CTNNB1 mutations is greater than in all other human tumours examined thus far, and directly implicates beta-catenin/\n",
       "<mark class=\"entity\" style=\"background: #7aecec; padding: 0.45em 0.6em; margin: 0 0.25em; line-height: 1; border-radius: 0.35em; box-decoration-break: clone; -webkit-box-decoration-break: clone\">\n",
       "    LEF\n",
       "    <span style=\"font-size: 0.8em; font-weight: bold; line-height: 1; border-radius: 0.35em; text-transform: uppercase; vertical-align: middle; margin-left: 0.5rem\">ORG</span>\n",
       "</mark>\n",
       " misregulation as the major cause of hair matrix cell tumorigenesis in humans.. </div>"
      ],
      "text/plain": [
       "<IPython.core.display.HTML object>"
      ]
     },
     "metadata": {},
     "output_type": "display_data"
    }
   ],
   "source": [
    "displacy.render(doc, style='ent', jupyter=True)"
   ]
  },
  {
   "attachments": {},
   "cell_type": "markdown",
   "metadata": {},
   "source": [
    "### A general Deep Learning approach for Natural Language Modeling / NER     \n",
    "\n",
    "- Embed: [word2vec](https://github.com/wangz10/text-classification/blob/bbf12fe89cd8a5cf7fab9c0a2c0ff589be3c4b55/Word2Vec.ipynb), learn the meaning of a word by its surrounding words (contexts)\n",
    "\n",
    "![](https://explosion.ai/blog/img/deep-learning-formula-nlp_embed.svg)\n",
    "\n",
    "- Encode: (context-independent vectors -> context-sensitive sentence matrix) learn to encode the context LSTM, CNN\n",
    "\n",
    "![](https://explosion.ai/blog/img/deep-learning-formula-nlp_encode.svg)\n",
    "\n",
    "- Attend: summarize inputs with respect to query\n",
    "\n",
    "![](https://explosion.ai/blog/img/deep-learning-formula-nlp_attend.svg)\n",
    "\n",
    "- Predict: from the attented vector, predict some target\n",
    "\n",
    "![](https://explosion.ai/blog/img/deep-learning-formula-nlp_predict.svg)\n",
    "\n",
    "\n",
    "### Transition-based NER\n",
    "\n",
    "![](images/transition-based_NER.png)\n",
    "\n",
    "from [Lample et al., 2016](https://arxiv.org/abs/1603.01360)\n",
    "\n",
    "Possible actions: `SHIFT`, `REDUCE(y)`, `OUT`\n",
    "\n",
    "### Psudo codes for spaCy's NER:\n",
    "\n",
    "```python\n",
    "tensor = trigram_cnn(embed_word(doc)) # embed -> encode \n",
    "state_weights = state2vec(tensor) # pay attention to part of the docs (tensor) \n",
    "state = initialize_state(doc)\n",
    "while not state.is_finished:\n",
    "    features = get_features(state, state_weights) # attention-weighted features of current state\n",
    "    probs = mlp(features) # compute probabilities for all actions based on features\n",
    "    action = (probs * valid_actions(state)).argmax() # take the best action\n",
    "    state = action(state) # perform action, update state\n",
    "```    \n"
   ]
  },
  {
   "cell_type": "markdown",
   "metadata": {},
   "source": [
    "# Train a spaCy model from scratch"
   ]
  },
  {
   "cell_type": "code",
   "execution_count": 8,
   "metadata": {},
   "outputs": [
    {
     "name": "stdout",
     "output_type": "stream",
     "text": [
      "Created blank 'en' model\n"
     ]
    }
   ],
   "source": [
    "nlp = spacy.blank('en')  # create blank Language class\n",
    "print(\"Created blank 'en' model\")\n",
    "\n",
    "# create the built-in pipeline components and add them to the pipeline\n",
    "# nlp.create_pipe works for built-ins that are registered with spaCy\n",
    "if 'ner' not in nlp.pipe_names:\n",
    "    ner = nlp.create_pipe('ner')\n",
    "    nlp.add_pipe(ner, last=True)\n",
    "\n",
    "# add labels\n",
    "for _, annotations in data_train:\n",
    "    for ent in annotations.get('entities'):\n",
    "        ner.add_label(ent[2])\n",
    "    "
   ]
  },
  {
   "cell_type": "code",
   "execution_count": 9,
   "metadata": {},
   "outputs": [
    {
     "name": "stdout",
     "output_type": "stream",
     "text": [
      "[]\n"
     ]
    }
   ],
   "source": [
    "# get names of other pipes to disable them during training\n",
    "other_pipes = [pipe for pipe in nlp.pipe_names if pipe != 'ner']\n",
    "print(other_pipes)"
   ]
  },
  {
   "cell_type": "code",
   "execution_count": 21,
   "metadata": {},
   "outputs": [
    {
     "name": "stdout",
     "output_type": "stream",
     "text": [
      "Warning: Unnamed vectors -- this won't allow multiple vectors models to be loaded. (Shape: (0, 0))\n",
      "Epoch 0, loss=13851.6731, f1_train=0.6161, f1_valid=0.5145\n",
      "Epoch 1, loss=7098.7035, f1_train=0.7457, f1_valid=0.6180\n",
      "Epoch 2, loss=5220.6798, f1_train=0.8000, f1_valid=0.6687\n",
      "Epoch 3, loss=4440.3948, f1_train=0.8207, f1_valid=0.6926\n",
      "Epoch 4, loss=4065.0828, f1_train=0.8593, f1_valid=0.7223\n",
      "Epoch 5, loss=3585.0010, f1_train=0.8673, f1_valid=0.7212\n",
      "Epoch 6, loss=3305.1200, f1_train=0.8992, f1_valid=0.7667\n",
      "Epoch 7, loss=3093.8284, f1_train=0.9015, f1_valid=0.7645\n",
      "Epoch 8, loss=2906.4929, f1_train=0.9093, f1_valid=0.7675\n",
      "Epoch 9, loss=2731.1056, f1_train=0.9084, f1_valid=0.7619\n",
      "Epoch 10, loss=2636.4364, f1_train=0.9177, f1_valid=0.7723\n",
      "Epoch 11, loss=2558.0177, f1_train=0.9221, f1_valid=0.7650\n",
      "Epoch 12, loss=2432.9702, f1_train=0.9291, f1_valid=0.7799\n",
      "Epoch 13, loss=2308.8118, f1_train=0.9221, f1_valid=0.7672\n",
      "Epoch 14, loss=2269.4819, f1_train=0.9361, f1_valid=0.7625\n",
      "Epoch 15, loss=2148.0696, f1_train=0.9416, f1_valid=0.7777\n",
      "Epoch 16, loss=2084.9877, f1_train=0.9444, f1_valid=0.7708\n",
      "Epoch 17, loss=2119.7542, f1_train=0.9454, f1_valid=0.7751\n",
      "Epoch 18, loss=1950.4291, f1_train=0.9485, f1_valid=0.7751\n",
      "Epoch 19, loss=1955.5407, f1_train=0.9526, f1_valid=0.7672\n"
     ]
    }
   ],
   "source": [
    "n_iter = 20\n",
    "f1s_train = []\n",
    "f2s_valid = []\n",
    "\n",
    "with nlp.disable_pipes(*other_pipes):  # only train NER\n",
    "    optimizer = nlp.begin_training()\n",
    "    for itn in range(n_iter):\n",
    "        random.shuffle(data_train)\n",
    "        losses = {}\n",
    "        for text, annotations in data_train:\n",
    "            nlp.update(\n",
    "                [text],  # batch of texts\n",
    "                [annotations],  # batch of annotations\n",
    "                drop=0.5,  # dropout - make it harder to memorise data\n",
    "                sgd=optimizer,  # callable to update weights\n",
    "                losses=losses)\n",
    "        f1_train = evaluate_f1_for_spacy_model(data_train, nlp)\n",
    "        f1_valid = evaluate_f1_for_spacy_model(data_valid, nlp)\n",
    "        f1s_train.append(f1_train)\n",
    "        f2s_valid.append(f1_valid)\n",
    "        print('Epoch %d, loss=%.4f, f1_train=%.4f, f1_valid=%.4f' % \\\n",
    "                (itn, losses['ner'], f1_train, f1_valid))"
   ]
  },
  {
   "cell_type": "code",
   "execution_count": 22,
   "metadata": {},
   "outputs": [],
   "source": [
    "# Save the trained model\n",
    "!mkdir -p model/spaCy_dz_NER_20epochs"
   ]
  },
  {
   "cell_type": "code",
   "execution_count": 23,
   "metadata": {},
   "outputs": [],
   "source": [
    "nlp.to_disk('model/spaCy_dz_NER_20epochs')"
   ]
  },
  {
   "cell_type": "code",
   "execution_count": 25,
   "metadata": {},
   "outputs": [],
   "source": [
    "import matplotlib.pyplot as plt\n",
    "%matplotlib inline\n",
    "import seaborn as sns\n",
    "sns.set_context('talk')"
   ]
  },
  {
   "cell_type": "code",
   "execution_count": 29,
   "metadata": {},
   "outputs": [
    {
     "data": {
      "image/png": "[encoded data removed]",
      "text/plain": [
       "<Figure size 432x288 with 1 Axes>"
      ]
     },
     "metadata": {},
     "output_type": "display_data"
    }
   ],
   "source": [
    "# Plot learning curves\n",
    "fig, ax = plt.subplots()\n",
    "ax.plot(range(len(f1s_train)), f1s_train, label='train')\n",
    "ax.plot(range(len(f1s_train)), f2s_valid, label='validation')\n",
    "ax.set_xlabel('Epochs')\n",
    "ax.set_ylabel('F1 score')\n",
    "ax.legend();"
   ]
  },
  {
   "cell_type": "code",
   "execution_count": 10,
   "metadata": {},
   "outputs": [],
   "source": [
    "# Load the trained model\n",
    "nlp = spacy.load('model/spaCy_dz_NER_20epochs')"
   ]
  },
  {
   "cell_type": "code",
   "execution_count": 11,
   "metadata": {},
   "outputs": [
    {
     "name": "stdout",
     "output_type": "stream",
     "text": [
      "F1 score (train): 0.9526\n",
      "F1 score (valid): 0.7672\n",
      "F1 score (test): 0.7742\n"
     ]
    }
   ],
   "source": [
    "print ('F1 score (train): %.4f' % evaluate_f1_for_spacy_model(data_train, nlp))\n",
    "print ('F1 score (valid): %.4f' % evaluate_f1_for_spacy_model(data_valid, nlp))\n",
    "print ('F1 score (test): %.4f' % evaluate_f1_for_spacy_model(data_test, nlp))"
   ]
  },
  {
   "cell_type": "markdown",
   "metadata": {},
   "source": [
    "### Check the tagging results on training data "
   ]
  },
  {
   "cell_type": "code",
   "execution_count": 12,
   "metadata": {},
   "outputs": [
    {
     "data": {
      "text/html": [
       "<div class=\"entities\" style=\"line-height: 2.5\">A common human \n",
       "<mark class=\"entity\" style=\"background: #ddd; padding: 0.45em 0.6em; margin: 0 0.25em; line-height: 1; border-radius: 0.35em; box-decoration-break: clone; -webkit-box-decoration-break: clone\">\n",
       "    skin tumour\n",
       "    <span style=\"font-size: 0.8em; font-weight: bold; line-height: 1; border-radius: 0.35em; text-transform: uppercase; vertical-align: middle; margin-left: 0.5rem\">DiseaseClass</span>\n",
       "</mark>\n",
       " is caused by activating mutations in beta-catenin.</br>WNT signalling orchestrates a number of developmental programs. In response to this stimulus, cytoplasmic beta-catenin (encoded by CTNNB1) is stabilized, enabling downstream transcriptional activation by members of the LEF/TCF family. One of the target genes for beta-catenin/TCF encodes c-MYC, explaining why constitutive activation of the WNT pathway can lead to \n",
       "<mark class=\"entity\" style=\"background: #ddd; padding: 0.45em 0.6em; margin: 0 0.25em; line-height: 1; border-radius: 0.35em; box-decoration-break: clone; -webkit-box-decoration-break: clone\">\n",
       "    cancer\n",
       "    <span style=\"font-size: 0.8em; font-weight: bold; line-height: 1; border-radius: 0.35em; text-transform: uppercase; vertical-align: middle; margin-left: 0.5rem\">DiseaseClass</span>\n",
       "</mark>\n",
       ", particularly in the colon. Most \n",
       "<mark class=\"entity\" style=\"background: #ddd; padding: 0.45em 0.6em; margin: 0 0.25em; line-height: 1; border-radius: 0.35em; box-decoration-break: clone; -webkit-box-decoration-break: clone\">\n",
       "    colon cancers\n",
       "    <span style=\"font-size: 0.8em; font-weight: bold; line-height: 1; border-radius: 0.35em; text-transform: uppercase; vertical-align: middle; margin-left: 0.5rem\">DiseaseClass</span>\n",
       "</mark>\n",
       " arise from mutations in the gene encoding \n",
       "<mark class=\"entity\" style=\"background: #ddd; padding: 0.45em 0.6em; margin: 0 0.25em; line-height: 1; border-radius: 0.35em; box-decoration-break: clone; -webkit-box-decoration-break: clone\">\n",
       "    adenomatous polyposis coli\n",
       "    <span style=\"font-size: 0.8em; font-weight: bold; line-height: 1; border-radius: 0.35em; text-transform: uppercase; vertical-align: middle; margin-left: 0.5rem\">SpecificDisease</span>\n",
       "</mark>\n",
       " (\n",
       "<mark class=\"entity\" style=\"background: #ddd; padding: 0.45em 0.6em; margin: 0 0.25em; line-height: 1; border-radius: 0.35em; box-decoration-break: clone; -webkit-box-decoration-break: clone\">\n",
       "    APC\n",
       "    <span style=\"font-size: 0.8em; font-weight: bold; line-height: 1; border-radius: 0.35em; text-transform: uppercase; vertical-align: middle; margin-left: 0.5rem\">SpecificDisease</span>\n",
       "</mark>\n",
       "), a protein required for ubiquitin-mediated degradation of beta-catenin, but a small percentage of \n",
       "<mark class=\"entity\" style=\"background: #ddd; padding: 0.45em 0.6em; margin: 0 0.25em; line-height: 1; border-radius: 0.35em; box-decoration-break: clone; -webkit-box-decoration-break: clone\">\n",
       "    colon and some other cancers\n",
       "    <span style=\"font-size: 0.8em; font-weight: bold; line-height: 1; border-radius: 0.35em; text-transform: uppercase; vertical-align: middle; margin-left: 0.5rem\">CompositeMention</span>\n",
       "</mark>\n",
       " harbour beta-catenin-stabilizing mutations. Recently, we discovered that transgenic mice expressing an activated beta-catenin are predisposed to developing \n",
       "<mark class=\"entity\" style=\"background: #ddd; padding: 0.45em 0.6em; margin: 0 0.25em; line-height: 1; border-radius: 0.35em; box-decoration-break: clone; -webkit-box-decoration-break: clone\">\n",
       "    skin tumours\n",
       "    <span style=\"font-size: 0.8em; font-weight: bold; line-height: 1; border-radius: 0.35em; text-transform: uppercase; vertical-align: middle; margin-left: 0.5rem\">DiseaseClass</span>\n",
       "</mark>\n",
       " resembling \n",
       "<mark class=\"entity\" style=\"background: #ddd; padding: 0.45em 0.6em; margin: 0 0.25em; line-height: 1; border-radius: 0.35em; box-decoration-break: clone; -webkit-box-decoration-break: clone\">\n",
       "    pilomatricomas\n",
       "    <span style=\"font-size: 0.8em; font-weight: bold; line-height: 1; border-radius: 0.35em; text-transform: uppercase; vertical-align: middle; margin-left: 0.5rem\">SpecificDisease</span>\n",
       "</mark>\n",
       ". Given that the skin of these adult mice also exhibits signs of de novo hair-follicle morphogenesis, we wondered whether human \n",
       "<mark class=\"entity\" style=\"background: #ddd; padding: 0.45em 0.6em; margin: 0 0.25em; line-height: 1; border-radius: 0.35em; box-decoration-break: clone; -webkit-box-decoration-break: clone\">\n",
       "    pilomatricomas\n",
       "    <span style=\"font-size: 0.8em; font-weight: bold; line-height: 1; border-radius: 0.35em; text-transform: uppercase; vertical-align: middle; margin-left: 0.5rem\">SpecificDisease</span>\n",
       "</mark>\n",
       " might originate from hair matrix cells and whether they might possess beta-catenin-stabilizing mutations. Here, we explore the cell origin and aetiology of this common human \n",
       "<mark class=\"entity\" style=\"background: #ddd; padding: 0.45em 0.6em; margin: 0 0.25em; line-height: 1; border-radius: 0.35em; box-decoration-break: clone; -webkit-box-decoration-break: clone\">\n",
       "    skin tumour\n",
       "    <span style=\"font-size: 0.8em; font-weight: bold; line-height: 1; border-radius: 0.35em; text-transform: uppercase; vertical-align: middle; margin-left: 0.5rem\">DiseaseClass</span>\n",
       "</mark>\n",
       ". We found nuclear LEF-1 in the dividing \n",
       "<mark class=\"entity\" style=\"background: #ddd; padding: 0.45em 0.6em; margin: 0 0.25em; line-height: 1; border-radius: 0.35em; box-decoration-break: clone; -webkit-box-decoration-break: clone\">\n",
       "    tumour\n",
       "    <span style=\"font-size: 0.8em; font-weight: bold; line-height: 1; border-radius: 0.35em; text-transform: uppercase; vertical-align: middle; margin-left: 0.5rem\">Modifier</span>\n",
       "</mark>\n",
       " cells, providing biochemical evidence that \n",
       "<mark class=\"entity\" style=\"background: #ddd; padding: 0.45em 0.6em; margin: 0 0.25em; line-height: 1; border-radius: 0.35em; box-decoration-break: clone; -webkit-box-decoration-break: clone\">\n",
       "    pilomatricomas\n",
       "    <span style=\"font-size: 0.8em; font-weight: bold; line-height: 1; border-radius: 0.35em; text-transform: uppercase; vertical-align: middle; margin-left: 0.5rem\">SpecificDisease</span>\n",
       "</mark>\n",
       " are derived from hair matrix cells. At least 75% of these \n",
       "<mark class=\"entity\" style=\"background: #ddd; padding: 0.45em 0.6em; margin: 0 0.25em; line-height: 1; border-radius: 0.35em; box-decoration-break: clone; -webkit-box-decoration-break: clone\">\n",
       "    tumours\n",
       "    <span style=\"font-size: 0.8em; font-weight: bold; line-height: 1; border-radius: 0.35em; text-transform: uppercase; vertical-align: middle; margin-left: 0.5rem\">DiseaseClass</span>\n",
       "</mark>\n",
       " possess mutations affecting the amino-terminal segment, normally involved in phosphorylation-dependent, ubiquitin-mediated degradation of the protein. This percentage of CTNNB1 mutations is greater than in all other human \n",
       "<mark class=\"entity\" style=\"background: #ddd; padding: 0.45em 0.6em; margin: 0 0.25em; line-height: 1; border-radius: 0.35em; box-decoration-break: clone; -webkit-box-decoration-break: clone\">\n",
       "    tumours\n",
       "    <span style=\"font-size: 0.8em; font-weight: bold; line-height: 1; border-radius: 0.35em; text-transform: uppercase; vertical-align: middle; margin-left: 0.5rem\">DiseaseClass</span>\n",
       "</mark>\n",
       " examined thus far, and directly implicates beta-catenin/LEF misregulation as the major cause of hair matrix cell tumorigenesis in humans.. </div>"
      ],
      "text/plain": [
       "<IPython.core.display.HTML object>"
      ]
     },
     "metadata": {},
     "output_type": "display_data"
    }
   ],
   "source": [
    "doc = nlp(data_train[0][0])\n",
    "displacy.render(doc, style='ent', jupyter=True)"
   ]
  },
  {
   "cell_type": "code",
   "execution_count": 13,
   "metadata": {},
   "outputs": [
    {
     "data": {
      "text/html": [
       "<div class=\"entities\" style=\"line-height: 2.5\">A common human \n",
       "<mark class=\"entity\" style=\"background: #ddd; padding: 0.45em 0.6em; margin: 0 0.25em; line-height: 1; border-radius: 0.35em; box-decoration-break: clone; -webkit-box-decoration-break: clone\">\n",
       "    skin tumour\n",
       "    <span style=\"font-size: 0.8em; font-weight: bold; line-height: 1; border-radius: 0.35em; text-transform: uppercase; vertical-align: middle; margin-left: 0.5rem\">DiseaseClass</span>\n",
       "</mark>\n",
       " is caused by activating mutations in beta-catenin.</br>WNT signalling orchestrates a number of developmental programs. In response to this stimulus, cytoplasmic beta-catenin (encoded by CTNNB1) is stabilized, enabling downstream transcriptional activation by members of the LEF/TCF family. One of the target genes for beta-catenin/TCF encodes c-MYC, explaining why constitutive activation of the WNT pathway can lead to \n",
       "<mark class=\"entity\" style=\"background: #ddd; padding: 0.45em 0.6em; margin: 0 0.25em; line-height: 1; border-radius: 0.35em; box-decoration-break: clone; -webkit-box-decoration-break: clone\">\n",
       "    cancer\n",
       "    <span style=\"font-size: 0.8em; font-weight: bold; line-height: 1; border-radius: 0.35em; text-transform: uppercase; vertical-align: middle; margin-left: 0.5rem\">DiseaseClass</span>\n",
       "</mark>\n",
       ", particularly in the colon. Most \n",
       "<mark class=\"entity\" style=\"background: #ddd; padding: 0.45em 0.6em; margin: 0 0.25em; line-height: 1; border-radius: 0.35em; box-decoration-break: clone; -webkit-box-decoration-break: clone\">\n",
       "    colon cancers\n",
       "    <span style=\"font-size: 0.8em; font-weight: bold; line-height: 1; border-radius: 0.35em; text-transform: uppercase; vertical-align: middle; margin-left: 0.5rem\">DiseaseClass</span>\n",
       "</mark>\n",
       " arise from mutations in the gene encoding \n",
       "<mark class=\"entity\" style=\"background: #ddd; padding: 0.45em 0.6em; margin: 0 0.25em; line-height: 1; border-radius: 0.35em; box-decoration-break: clone; -webkit-box-decoration-break: clone\">\n",
       "    adenomatous polyposis coli\n",
       "    <span style=\"font-size: 0.8em; font-weight: bold; line-height: 1; border-radius: 0.35em; text-transform: uppercase; vertical-align: middle; margin-left: 0.5rem\">SpecificDisease</span>\n",
       "</mark>\n",
       " (\n",
       "<mark class=\"entity\" style=\"background: #ddd; padding: 0.45em 0.6em; margin: 0 0.25em; line-height: 1; border-radius: 0.35em; box-decoration-break: clone; -webkit-box-decoration-break: clone\">\n",
       "    APC\n",
       "    <span style=\"font-size: 0.8em; font-weight: bold; line-height: 1; border-radius: 0.35em; text-transform: uppercase; vertical-align: middle; margin-left: 0.5rem\">SpecificDisease</span>\n",
       "</mark>\n",
       "), a protein required for ubiquitin-mediated degradation of beta-catenin, but a small percentage of \n",
       "<mark class=\"entity\" style=\"background: #ddd; padding: 0.45em 0.6em; margin: 0 0.25em; line-height: 1; border-radius: 0.35em; box-decoration-break: clone; -webkit-box-decoration-break: clone\">\n",
       "    colon and some other cancers\n",
       "    <span style=\"font-size: 0.8em; font-weight: bold; line-height: 1; border-radius: 0.35em; text-transform: uppercase; vertical-align: middle; margin-left: 0.5rem\">CompositeMention</span>\n",
       "</mark>\n",
       " harbour beta-catenin-stabilizing mutations. Recently, we discovered that transgenic mice expressing an activated beta-catenin are predisposed to developing \n",
       "<mark class=\"entity\" style=\"background: #ddd; padding: 0.45em 0.6em; margin: 0 0.25em; line-height: 1; border-radius: 0.35em; box-decoration-break: clone; -webkit-box-decoration-break: clone\">\n",
       "    skin tumours\n",
       "    <span style=\"font-size: 0.8em; font-weight: bold; line-height: 1; border-radius: 0.35em; text-transform: uppercase; vertical-align: middle; margin-left: 0.5rem\">DiseaseClass</span>\n",
       "</mark>\n",
       " resembling \n",
       "<mark class=\"entity\" style=\"background: #ddd; padding: 0.45em 0.6em; margin: 0 0.25em; line-height: 1; border-radius: 0.35em; box-decoration-break: clone; -webkit-box-decoration-break: clone\">\n",
       "    pilomatricomas\n",
       "    <span style=\"font-size: 0.8em; font-weight: bold; line-height: 1; border-radius: 0.35em; text-transform: uppercase; vertical-align: middle; margin-left: 0.5rem\">SpecificDisease</span>\n",
       "</mark>\n",
       ". Given that the skin of these adult mice also exhibits signs of de novo hair-follicle morphogenesis, we wondered whether human \n",
       "<mark class=\"entity\" style=\"background: #ddd; padding: 0.45em 0.6em; margin: 0 0.25em; line-height: 1; border-radius: 0.35em; box-decoration-break: clone; -webkit-box-decoration-break: clone\">\n",
       "    pilomatricomas\n",
       "    <span style=\"font-size: 0.8em; font-weight: bold; line-height: 1; border-radius: 0.35em; text-transform: uppercase; vertical-align: middle; margin-left: 0.5rem\">SpecificDisease</span>\n",
       "</mark>\n",
       " might originate from hair matrix cells and whether they might possess beta-catenin-stabilizing mutations. Here, we explore the cell origin and aetiology of this common human \n",
       "<mark class=\"entity\" style=\"background: #ddd; padding: 0.45em 0.6em; margin: 0 0.25em; line-height: 1; border-radius: 0.35em; box-decoration-break: clone; -webkit-box-decoration-break: clone\">\n",
       "    skin tumour\n",
       "    <span style=\"font-size: 0.8em; font-weight: bold; line-height: 1; border-radius: 0.35em; text-transform: uppercase; vertical-align: middle; margin-left: 0.5rem\">DiseaseClass</span>\n",
       "</mark>\n",
       ". We found nuclear LEF-1 in the dividing \n",
       "<mark class=\"entity\" style=\"background: #ddd; padding: 0.45em 0.6em; margin: 0 0.25em; line-height: 1; border-radius: 0.35em; box-decoration-break: clone; -webkit-box-decoration-break: clone\">\n",
       "    tumour\n",
       "    <span style=\"font-size: 0.8em; font-weight: bold; line-height: 1; border-radius: 0.35em; text-transform: uppercase; vertical-align: middle; margin-left: 0.5rem\">Modifier</span>\n",
       "</mark>\n",
       " cells, providing biochemical evidence that \n",
       "<mark class=\"entity\" style=\"background: #ddd; padding: 0.45em 0.6em; margin: 0 0.25em; line-height: 1; border-radius: 0.35em; box-decoration-break: clone; -webkit-box-decoration-break: clone\">\n",
       "    pilomatricomas\n",
       "    <span style=\"font-size: 0.8em; font-weight: bold; line-height: 1; border-radius: 0.35em; text-transform: uppercase; vertical-align: middle; margin-left: 0.5rem\">SpecificDisease</span>\n",
       "</mark>\n",
       " are derived from hair matrix cells. At least 75% of these \n",
       "<mark class=\"entity\" style=\"background: #ddd; padding: 0.45em 0.6em; margin: 0 0.25em; line-height: 1; border-radius: 0.35em; box-decoration-break: clone; -webkit-box-decoration-break: clone\">\n",
       "    tumours\n",
       "    <span style=\"font-size: 0.8em; font-weight: bold; line-height: 1; border-radius: 0.35em; text-transform: uppercase; vertical-align: middle; margin-left: 0.5rem\">DiseaseClass</span>\n",
       "</mark>\n",
       " possess mutations affecting the amino-terminal segment, normally involved in phosphorylation-dependent, ubiquitin-mediated degradation of the protein. This percentage of CTNNB1 mutations is greater than in all other human \n",
       "<mark class=\"entity\" style=\"background: #ddd; padding: 0.45em 0.6em; margin: 0 0.25em; line-height: 1; border-radius: 0.35em; box-decoration-break: clone; -webkit-box-decoration-break: clone\">\n",
       "    tumours\n",
       "    <span style=\"font-size: 0.8em; font-weight: bold; line-height: 1; border-radius: 0.35em; text-transform: uppercase; vertical-align: middle; margin-left: 0.5rem\">DiseaseClass</span>\n",
       "</mark>\n",
       " examined thus far, and directly implicates beta-catenin/LEF misregulation as the major cause of hair matrix cell tumorigenesis in humans.. </div>"
      ],
      "text/plain": [
       "<IPython.core.display.HTML object>"
      ]
     },
     "metadata": {},
     "output_type": "display_data"
    }
   ],
   "source": [
    "display_truth(data_train[0])"
   ]
  },
  {
   "cell_type": "markdown",
   "metadata": {},
   "source": [
    "### Check the tagging results on test data "
   ]
  },
  {
   "cell_type": "code",
   "execution_count": 14,
   "metadata": {},
   "outputs": [
    {
     "data": {
      "text/html": [
       "<div class=\"entities\" style=\"line-height: 2.5\">Genetic mapping of the copper toxicosis locus in Bedlington terriers to dog chromosome 10, in a region syntenic to human chromosome region 2p13-p16.</br>\n",
       "<mark class=\"entity\" style=\"background: #ddd; padding: 0.45em 0.6em; margin: 0 0.25em; line-height: 1; border-radius: 0.35em; box-decoration-break: clone; -webkit-box-decoration-break: clone\">\n",
       "    Abnormal hepatic copper accumulation\n",
       "    <span style=\"font-size: 0.8em; font-weight: bold; line-height: 1; border-radius: 0.35em; text-transform: uppercase; vertical-align: middle; margin-left: 0.5rem\">SpecificDisease</span>\n",
       "</mark>\n",
       " is recognized as an \n",
       "<mark class=\"entity\" style=\"background: #ddd; padding: 0.45em 0.6em; margin: 0 0.25em; line-height: 1; border-radius: 0.35em; box-decoration-break: clone; -webkit-box-decoration-break: clone\">\n",
       "    inherited disorder\n",
       "    <span style=\"font-size: 0.8em; font-weight: bold; line-height: 1; border-radius: 0.35em; text-transform: uppercase; vertical-align: middle; margin-left: 0.5rem\">DiseaseClass</span>\n",
       "</mark>\n",
       " in man, mouse, rat and dog. The major cause of \n",
       "<mark class=\"entity\" style=\"background: #ddd; padding: 0.45em 0.6em; margin: 0 0.25em; line-height: 1; border-radius: 0.35em; box-decoration-break: clone; -webkit-box-decoration-break: clone\">\n",
       "    hepatic copper accumulation\n",
       "    <span style=\"font-size: 0.8em; font-weight: bold; line-height: 1; border-radius: 0.35em; text-transform: uppercase; vertical-align: middle; margin-left: 0.5rem\">DiseaseClass</span>\n",
       "</mark>\n",
       " in man is a dysfunctional ATP7B gene, causing \n",
       "<mark class=\"entity\" style=\"background: #ddd; padding: 0.45em 0.6em; margin: 0 0.25em; line-height: 1; border-radius: 0.35em; box-decoration-break: clone; -webkit-box-decoration-break: clone\">\n",
       "    Wilson disease\n",
       "    <span style=\"font-size: 0.8em; font-weight: bold; line-height: 1; border-radius: 0.35em; text-transform: uppercase; vertical-align: middle; margin-left: 0.5rem\">SpecificDisease</span>\n",
       "</mark>\n",
       " (\n",
       "<mark class=\"entity\" style=\"background: #ddd; padding: 0.45em 0.6em; margin: 0 0.25em; line-height: 1; border-radius: 0.35em; box-decoration-break: clone; -webkit-box-decoration-break: clone\">\n",
       "    WD\n",
       "    <span style=\"font-size: 0.8em; font-weight: bold; line-height: 1; border-radius: 0.35em; text-transform: uppercase; vertical-align: middle; margin-left: 0.5rem\">SpecificDisease</span>\n",
       "</mark>\n",
       "). Mutations in the ATP7B genes have also been demonstrated in mouse and rat. The ATP7B gene has been excluded in the much rarer human \n",
       "<mark class=\"entity\" style=\"background: #ddd; padding: 0.45em 0.6em; margin: 0 0.25em; line-height: 1; border-radius: 0.35em; box-decoration-break: clone; -webkit-box-decoration-break: clone\">\n",
       "    copper overload disease non-Indian childhood cirrhosis\n",
       "    <span style=\"font-size: 0.8em; font-weight: bold; line-height: 1; border-radius: 0.35em; text-transform: uppercase; vertical-align: middle; margin-left: 0.5rem\">DiseaseClass</span>\n",
       "</mark>\n",
       ", indicating genetic heterogeneity. By investigating the common \n",
       "<mark class=\"entity\" style=\"background: #ddd; padding: 0.45em 0.6em; margin: 0 0.25em; line-height: 1; border-radius: 0.35em; box-decoration-break: clone; -webkit-box-decoration-break: clone\">\n",
       "    autosomal recessive copper toxicosis\n",
       "    <span style=\"font-size: 0.8em; font-weight: bold; line-height: 1; border-radius: 0.35em; text-transform: uppercase; vertical-align: middle; margin-left: 0.5rem\">DiseaseClass</span>\n",
       "</mark>\n",
       " (CT) in Bedlington terriers, we have identified a new locus involved in progressive \n",
       "<mark class=\"entity\" style=\"background: #ddd; padding: 0.45em 0.6em; margin: 0 0.25em; line-height: 1; border-radius: 0.35em; box-decoration-break: clone; -webkit-box-decoration-break: clone\">\n",
       "    liver disease\n",
       "    <span style=\"font-size: 0.8em; font-weight: bold; line-height: 1; border-radius: 0.35em; text-transform: uppercase; vertical-align: middle; margin-left: 0.5rem\">SpecificDisease</span>\n",
       "</mark>\n",
       ". We examined whether the \n",
       "<mark class=\"entity\" style=\"background: #ddd; padding: 0.45em 0.6em; margin: 0 0.25em; line-height: 1; border-radius: 0.35em; box-decoration-break: clone; -webkit-box-decoration-break: clone\">\n",
       "    WD\n",
       "    <span style=\"font-size: 0.8em; font-weight: bold; line-height: 1; border-radius: 0.35em; text-transform: uppercase; vertical-align: middle; margin-left: 0.5rem\">Modifier</span>\n",
       "</mark>\n",
       " gene ATP7B was also causative for CT by investigating the chromosomal co-localization of ATP7B and C04107, using fluorescence in situ hybridization (FISH). C04107 is an anonymous microsatellite marker closely linked to CT. However, BAC clones containing ATP7B and C04107 mapped to the canine chromosome regions CFA22q11 and CFA10q26, respectively, demonstrating that \n",
       "<mark class=\"entity\" style=\"background: #ddd; padding: 0.45em 0.6em; margin: 0 0.25em; line-height: 1; border-radius: 0.35em; box-decoration-break: clone; -webkit-box-decoration-break: clone\">\n",
       "    WD\n",
       "    <span style=\"font-size: 0.8em; font-weight: bold; line-height: 1; border-radius: 0.35em; text-transform: uppercase; vertical-align: middle; margin-left: 0.5rem\">SpecificDisease</span>\n",
       "</mark>\n",
       " cannot be homologous to CT. The copper transport genes CTR1 and CTR2 were also excluded as candidate genes for CT since they both mapped to canine chromosome region CFA11q22. 2-22. 5. A transcribed sequence identified from the C04107-containing BAC was found to be homologous to a gene expressed from human chromosome 2p13-p16, a region devoid of any positional candidate genes. </div>"
      ],
      "text/plain": [
       "<IPython.core.display.HTML object>"
      ]
     },
     "metadata": {},
     "output_type": "display_data"
    }
   ],
   "source": [
    "doc = nlp(data_test[0][0])\n",
    "displacy.render(doc, style='ent', jupyter=True)"
   ]
  },
  {
   "cell_type": "code",
   "execution_count": 15,
   "metadata": {},
   "outputs": [
    {
     "data": {
      "text/html": [
       "<div class=\"entities\" style=\"line-height: 2.5\">Genetic mapping of the \n",
       "<mark class=\"entity\" style=\"background: #ddd; padding: 0.45em 0.6em; margin: 0 0.25em; line-height: 1; border-radius: 0.35em; box-decoration-break: clone; -webkit-box-decoration-break: clone\">\n",
       "    copper toxicosis\n",
       "    <span style=\"font-size: 0.8em; font-weight: bold; line-height: 1; border-radius: 0.35em; text-transform: uppercase; vertical-align: middle; margin-left: 0.5rem\">Modifier</span>\n",
       "</mark>\n",
       " locus in Bedlington terriers to dog chromosome 10, in a region syntenic to human chromosome region 2p13-p16.</br>Abnormal \n",
       "<mark class=\"entity\" style=\"background: #ddd; padding: 0.45em 0.6em; margin: 0 0.25em; line-height: 1; border-radius: 0.35em; box-decoration-break: clone; -webkit-box-decoration-break: clone\">\n",
       "    hepatic copper accumulation\n",
       "    <span style=\"font-size: 0.8em; font-weight: bold; line-height: 1; border-radius: 0.35em; text-transform: uppercase; vertical-align: middle; margin-left: 0.5rem\">SpecificDisease</span>\n",
       "</mark>\n",
       " is recognized as an \n",
       "<mark class=\"entity\" style=\"background: #ddd; padding: 0.45em 0.6em; margin: 0 0.25em; line-height: 1; border-radius: 0.35em; box-decoration-break: clone; -webkit-box-decoration-break: clone\">\n",
       "    inherited disorder\n",
       "    <span style=\"font-size: 0.8em; font-weight: bold; line-height: 1; border-radius: 0.35em; text-transform: uppercase; vertical-align: middle; margin-left: 0.5rem\">DiseaseClass</span>\n",
       "</mark>\n",
       " in man, mouse, rat and dog. The major cause of \n",
       "<mark class=\"entity\" style=\"background: #ddd; padding: 0.45em 0.6em; margin: 0 0.25em; line-height: 1; border-radius: 0.35em; box-decoration-break: clone; -webkit-box-decoration-break: clone\">\n",
       "    hepatic copper accumulation\n",
       "    <span style=\"font-size: 0.8em; font-weight: bold; line-height: 1; border-radius: 0.35em; text-transform: uppercase; vertical-align: middle; margin-left: 0.5rem\">SpecificDisease</span>\n",
       "</mark>\n",
       " in man is a dysfunctional ATP7B gene, causing \n",
       "<mark class=\"entity\" style=\"background: #ddd; padding: 0.45em 0.6em; margin: 0 0.25em; line-height: 1; border-radius: 0.35em; box-decoration-break: clone; -webkit-box-decoration-break: clone\">\n",
       "    Wilson disease\n",
       "    <span style=\"font-size: 0.8em; font-weight: bold; line-height: 1; border-radius: 0.35em; text-transform: uppercase; vertical-align: middle; margin-left: 0.5rem\">SpecificDisease</span>\n",
       "</mark>\n",
       " (\n",
       "<mark class=\"entity\" style=\"background: #ddd; padding: 0.45em 0.6em; margin: 0 0.25em; line-height: 1; border-radius: 0.35em; box-decoration-break: clone; -webkit-box-decoration-break: clone\">\n",
       "    WD\n",
       "    <span style=\"font-size: 0.8em; font-weight: bold; line-height: 1; border-radius: 0.35em; text-transform: uppercase; vertical-align: middle; margin-left: 0.5rem\">SpecificDisease</span>\n",
       "</mark>\n",
       "). Mutations in the ATP7B genes have also been demonstrated in mouse and rat. The ATP7B gene has been excluded in the much rarer human \n",
       "<mark class=\"entity\" style=\"background: #ddd; padding: 0.45em 0.6em; margin: 0 0.25em; line-height: 1; border-radius: 0.35em; box-decoration-break: clone; -webkit-box-decoration-break: clone\">\n",
       "    copper overload\n",
       "    <span style=\"font-size: 0.8em; font-weight: bold; line-height: 1; border-radius: 0.35em; text-transform: uppercase; vertical-align: middle; margin-left: 0.5rem\">SpecificDisease</span>\n",
       "</mark>\n",
       " disease \n",
       "<mark class=\"entity\" style=\"background: #ddd; padding: 0.45em 0.6em; margin: 0 0.25em; line-height: 1; border-radius: 0.35em; box-decoration-break: clone; -webkit-box-decoration-break: clone\">\n",
       "    non-Indian childhood cirrhosis\n",
       "    <span style=\"font-size: 0.8em; font-weight: bold; line-height: 1; border-radius: 0.35em; text-transform: uppercase; vertical-align: middle; margin-left: 0.5rem\">SpecificDisease</span>\n",
       "</mark>\n",
       ", indicating genetic heterogeneity. By investigating the common autosomal recessive \n",
       "<mark class=\"entity\" style=\"background: #ddd; padding: 0.45em 0.6em; margin: 0 0.25em; line-height: 1; border-radius: 0.35em; box-decoration-break: clone; -webkit-box-decoration-break: clone\">\n",
       "    copper toxicosis\n",
       "    <span style=\"font-size: 0.8em; font-weight: bold; line-height: 1; border-radius: 0.35em; text-transform: uppercase; vertical-align: middle; margin-left: 0.5rem\">SpecificDisease</span>\n",
       "</mark>\n",
       " (\n",
       "<mark class=\"entity\" style=\"background: #ddd; padding: 0.45em 0.6em; margin: 0 0.25em; line-height: 1; border-radius: 0.35em; box-decoration-break: clone; -webkit-box-decoration-break: clone\">\n",
       "    CT\n",
       "    <span style=\"font-size: 0.8em; font-weight: bold; line-height: 1; border-radius: 0.35em; text-transform: uppercase; vertical-align: middle; margin-left: 0.5rem\">SpecificDisease</span>\n",
       "</mark>\n",
       ") in Bedlington terriers, we have identified a new locus involved in progressive \n",
       "<mark class=\"entity\" style=\"background: #ddd; padding: 0.45em 0.6em; margin: 0 0.25em; line-height: 1; border-radius: 0.35em; box-decoration-break: clone; -webkit-box-decoration-break: clone\">\n",
       "    liver disease\n",
       "    <span style=\"font-size: 0.8em; font-weight: bold; line-height: 1; border-radius: 0.35em; text-transform: uppercase; vertical-align: middle; margin-left: 0.5rem\">DiseaseClass</span>\n",
       "</mark>\n",
       ". We examined whether the \n",
       "<mark class=\"entity\" style=\"background: #ddd; padding: 0.45em 0.6em; margin: 0 0.25em; line-height: 1; border-radius: 0.35em; box-decoration-break: clone; -webkit-box-decoration-break: clone\">\n",
       "    WD\n",
       "    <span style=\"font-size: 0.8em; font-weight: bold; line-height: 1; border-radius: 0.35em; text-transform: uppercase; vertical-align: middle; margin-left: 0.5rem\">Modifier</span>\n",
       "</mark>\n",
       " gene ATP7B was also causative for \n",
       "<mark class=\"entity\" style=\"background: #ddd; padding: 0.45em 0.6em; margin: 0 0.25em; line-height: 1; border-radius: 0.35em; box-decoration-break: clone; -webkit-box-decoration-break: clone\">\n",
       "    CT\n",
       "    <span style=\"font-size: 0.8em; font-weight: bold; line-height: 1; border-radius: 0.35em; text-transform: uppercase; vertical-align: middle; margin-left: 0.5rem\">SpecificDisease</span>\n",
       "</mark>\n",
       " by investigating the chromosomal co-localization of ATP7B and C04107, using fluorescence in situ hybridization (FISH). C04107 is an anonymous microsatellite marker closely linked to \n",
       "<mark class=\"entity\" style=\"background: #ddd; padding: 0.45em 0.6em; margin: 0 0.25em; line-height: 1; border-radius: 0.35em; box-decoration-break: clone; -webkit-box-decoration-break: clone\">\n",
       "    CT\n",
       "    <span style=\"font-size: 0.8em; font-weight: bold; line-height: 1; border-radius: 0.35em; text-transform: uppercase; vertical-align: middle; margin-left: 0.5rem\">SpecificDisease</span>\n",
       "</mark>\n",
       ". However, BAC clones containing ATP7B and C04107 mapped to the canine chromosome regions CFA22q11 and CFA10q26, respectively, demonstrating that \n",
       "<mark class=\"entity\" style=\"background: #ddd; padding: 0.45em 0.6em; margin: 0 0.25em; line-height: 1; border-radius: 0.35em; box-decoration-break: clone; -webkit-box-decoration-break: clone\">\n",
       "    WD\n",
       "    <span style=\"font-size: 0.8em; font-weight: bold; line-height: 1; border-radius: 0.35em; text-transform: uppercase; vertical-align: middle; margin-left: 0.5rem\">SpecificDisease</span>\n",
       "</mark>\n",
       " cannot be homologous to \n",
       "<mark class=\"entity\" style=\"background: #ddd; padding: 0.45em 0.6em; margin: 0 0.25em; line-height: 1; border-radius: 0.35em; box-decoration-break: clone; -webkit-box-decoration-break: clone\">\n",
       "    CT\n",
       "    <span style=\"font-size: 0.8em; font-weight: bold; line-height: 1; border-radius: 0.35em; text-transform: uppercase; vertical-align: middle; margin-left: 0.5rem\">SpecificDisease</span>\n",
       "</mark>\n",
       ". The copper transport genes CTR1 and CTR2 were also excluded as candidate genes for \n",
       "<mark class=\"entity\" style=\"background: #ddd; padding: 0.45em 0.6em; margin: 0 0.25em; line-height: 1; border-radius: 0.35em; box-decoration-break: clone; -webkit-box-decoration-break: clone\">\n",
       "    CT\n",
       "    <span style=\"font-size: 0.8em; font-weight: bold; line-height: 1; border-radius: 0.35em; text-transform: uppercase; vertical-align: middle; margin-left: 0.5rem\">SpecificDisease</span>\n",
       "</mark>\n",
       " since they both mapped to canine chromosome region CFA11q22. 2-22. 5. A transcribed sequence identified from the C04107-containing BAC was found to be homologous to a gene expressed from human chromosome 2p13-p16, a region devoid of any positional candidate genes. </div>"
      ],
      "text/plain": [
       "<IPython.core.display.HTML object>"
      ]
     },
     "metadata": {},
     "output_type": "display_data"
    }
   ],
   "source": [
    "display_truth(data_test[0])"
   ]
  },
  {
   "cell_type": "code",
   "execution_count": 16,
   "metadata": {},
   "outputs": [],
   "source": [
    "# Explore uncertain predictions\n",
    "def get_ner_probas(nlp, text):\n",
    "    '''\n",
    "    To get the probability of the tagged ERs from the model.\n",
    "    \n",
    "    This is still an open issue: https://github.com/explosion/spaCy/issues/881\n",
    "    '''\n",
    "    with nlp.disable_pipes('ner'):\n",
    "        doc = nlp(text)\n",
    "\n",
    "    (beams, somethingelse) = nlp.entity.beam_parse([ doc ], beam_width = 16, beam_density = 0.0001)\n",
    "    \n",
    "    entity_scores = defaultdict(float)\n",
    "    for beam in beams:\n",
    "        for score, ents in nlp.entity.moves.get_beam_parses(beam):\n",
    "            for start, end, label in ents:\n",
    "                entity_scores[(doc[start:end].text, label, start, end)] += score\n",
    "    df = pd.DataFrame.from_records(list(entity_scores.items()), \n",
    "                                             columns=['tuple', 'proba'])\n",
    "    df['entity'] = df['tuple'].map(lambda x: x[0])\n",
    "    df['entity_type'] = df['tuple'].map(lambda x:x[1])\n",
    "    df['start'] = df['tuple'].map(lambda x:x[2])\n",
    "    df['end'] = df['tuple'].map(lambda x:x[3])\n",
    "    return df.drop('tuple', axis=1)"
   ]
  },
  {
   "cell_type": "code",
   "execution_count": 17,
   "metadata": {},
   "outputs": [
    {
     "data": {
      "text/html": [
       "<div>\n",
       "<style scoped>\n",
       "    .dataframe tbody tr th:only-of-type {\n",
       "        vertical-align: middle;\n",
       "    }\n",
       "\n",
       "    .dataframe tbody tr th {\n",
       "        vertical-align: top;\n",
       "    }\n",
       "\n",
       "    .dataframe thead th {\n",
       "        text-align: right;\n",
       "    }\n",
       "</style>\n",
       "<table border=\"1\" class=\"dataframe\">\n",
       "  <thead>\n",
       "    <tr style=\"text-align: right;\">\n",
       "      <th></th>\n",
       "      <th>proba</th>\n",
       "      <th>entity</th>\n",
       "      <th>entity_type</th>\n",
       "      <th>start</th>\n",
       "      <th>end</th>\n",
       "    </tr>\n",
       "  </thead>\n",
       "  <tbody>\n",
       "    <tr>\n",
       "      <th>0</th>\n",
       "      <td>1.000000e+00</td>\n",
       "      <td>of the copper toxicosis</td>\n",
       "      <td>Modifier</td>\n",
       "      <td>2</td>\n",
       "      <td>6</td>\n",
       "    </tr>\n",
       "    <tr>\n",
       "      <th>5</th>\n",
       "      <td>1.000000e+00</td>\n",
       "      <td>WD</td>\n",
       "      <td>SpecificDisease</td>\n",
       "      <td>64</td>\n",
       "      <td>65</td>\n",
       "    </tr>\n",
       "    <tr>\n",
       "      <th>9</th>\n",
       "      <td>1.000000e+00</td>\n",
       "      <td>WD</td>\n",
       "      <td>SpecificDisease</td>\n",
       "      <td>198</td>\n",
       "      <td>199</td>\n",
       "    </tr>\n",
       "    <tr>\n",
       "      <th>7</th>\n",
       "      <td>1.000000e+00</td>\n",
       "      <td>autosomal recessive copper toxicosis</td>\n",
       "      <td>DiseaseClass</td>\n",
       "      <td>109</td>\n",
       "      <td>113</td>\n",
       "    </tr>\n",
       "    <tr>\n",
       "      <th>6</th>\n",
       "      <td>1.000000e+00</td>\n",
       "      <td>copper overload disease non-Indian childhood c...</td>\n",
       "      <td>DiseaseClass</td>\n",
       "      <td>92</td>\n",
       "      <td>100</td>\n",
       "    </tr>\n",
       "    <tr>\n",
       "      <th>8</th>\n",
       "      <td>1.000000e+00</td>\n",
       "      <td>WD</td>\n",
       "      <td>Modifier</td>\n",
       "      <td>136</td>\n",
       "      <td>137</td>\n",
       "    </tr>\n",
       "    <tr>\n",
       "      <th>3</th>\n",
       "      <td>1.000000e+00</td>\n",
       "      <td>an inherited disorder</td>\n",
       "      <td>DiseaseClass</td>\n",
       "      <td>33</td>\n",
       "      <td>36</td>\n",
       "    </tr>\n",
       "    <tr>\n",
       "      <th>2</th>\n",
       "      <td>1.000000e+00</td>\n",
       "      <td>Abnormal hepatic copper accumulation</td>\n",
       "      <td>DiseaseClass</td>\n",
       "      <td>26</td>\n",
       "      <td>30</td>\n",
       "    </tr>\n",
       "    <tr>\n",
       "      <th>1</th>\n",
       "      <td>9.899101e-01</td>\n",
       "      <td>in</td>\n",
       "      <td>DiseaseClass</td>\n",
       "      <td>15</td>\n",
       "      <td>16</td>\n",
       "    </tr>\n",
       "    <tr>\n",
       "      <th>4</th>\n",
       "      <td>5.346125e-01</td>\n",
       "      <td>Wilson disease</td>\n",
       "      <td>SpecificDisease</td>\n",
       "      <td>61</td>\n",
       "      <td>63</td>\n",
       "    </tr>\n",
       "    <tr>\n",
       "      <th>10</th>\n",
       "      <td>4.653875e-01</td>\n",
       "      <td>Wilson disease</td>\n",
       "      <td>CompositeMention</td>\n",
       "      <td>61</td>\n",
       "      <td>63</td>\n",
       "    </tr>\n",
       "    <tr>\n",
       "      <th>11</th>\n",
       "      <td>1.654754e-01</td>\n",
       "      <td>progressive liver disease</td>\n",
       "      <td>DiseaseClass</td>\n",
       "      <td>128</td>\n",
       "      <td>131</td>\n",
       "    </tr>\n",
       "    <tr>\n",
       "      <th>12</th>\n",
       "      <td>1.008989e-02</td>\n",
       "      <td>in</td>\n",
       "      <td>SpecificDisease</td>\n",
       "      <td>15</td>\n",
       "      <td>16</td>\n",
       "    </tr>\n",
       "    <tr>\n",
       "      <th>13</th>\n",
       "      <td>2.410283e-04</td>\n",
       "      <td>liver disease</td>\n",
       "      <td>DiseaseClass</td>\n",
       "      <td>129</td>\n",
       "      <td>131</td>\n",
       "    </tr>\n",
       "    <tr>\n",
       "      <th>14</th>\n",
       "      <td>5.018457e-10</td>\n",
       "      <td></td>\n",
       "      <td>SpecificDisease</td>\n",
       "      <td>267</td>\n",
       "      <td>-1</td>\n",
       "    </tr>\n",
       "    <tr>\n",
       "      <th>15</th>\n",
       "      <td>2.194766e-10</td>\n",
       "      <td></td>\n",
       "      <td>Modifier</td>\n",
       "      <td>267</td>\n",
       "      <td>-1</td>\n",
       "    </tr>\n",
       "    <tr>\n",
       "      <th>16</th>\n",
       "      <td>1.193273e-10</td>\n",
       "      <td></td>\n",
       "      <td>DiseaseClass</td>\n",
       "      <td>267</td>\n",
       "      <td>-1</td>\n",
       "    </tr>\n",
       "  </tbody>\n",
       "</table>\n",
       "</div>"
      ],
      "text/plain": [
       "           proba                                             entity  \\\n",
       "0   1.000000e+00                            of the copper toxicosis   \n",
       "5   1.000000e+00                                                 WD   \n",
       "9   1.000000e+00                                                 WD   \n",
       "7   1.000000e+00               autosomal recessive copper toxicosis   \n",
       "6   1.000000e+00  copper overload disease non-Indian childhood c...   \n",
       "8   1.000000e+00                                                 WD   \n",
       "3   1.000000e+00                              an inherited disorder   \n",
       "2   1.000000e+00               Abnormal hepatic copper accumulation   \n",
       "1   9.899101e-01                                                 in   \n",
       "4   5.346125e-01                                     Wilson disease   \n",
       "10  4.653875e-01                                     Wilson disease   \n",
       "11  1.654754e-01                          progressive liver disease   \n",
       "12  1.008989e-02                                                 in   \n",
       "13  2.410283e-04                                      liver disease   \n",
       "14  5.018457e-10                                                      \n",
       "15  2.194766e-10                                                      \n",
       "16  1.193273e-10                                                      \n",
       "\n",
       "         entity_type  start  end  \n",
       "0           Modifier      2    6  \n",
       "5    SpecificDisease     64   65  \n",
       "9    SpecificDisease    198  199  \n",
       "7       DiseaseClass    109  113  \n",
       "6       DiseaseClass     92  100  \n",
       "8           Modifier    136  137  \n",
       "3       DiseaseClass     33   36  \n",
       "2       DiseaseClass     26   30  \n",
       "1       DiseaseClass     15   16  \n",
       "4    SpecificDisease     61   63  \n",
       "10  CompositeMention     61   63  \n",
       "11      DiseaseClass    128  131  \n",
       "12   SpecificDisease     15   16  \n",
       "13      DiseaseClass    129  131  \n",
       "14   SpecificDisease    267   -1  \n",
       "15          Modifier    267   -1  \n",
       "16      DiseaseClass    267   -1  "
      ]
     },
     "execution_count": 17,
     "metadata": {},
     "output_type": "execute_result"
    }
   ],
   "source": [
    "entity_scores = get_ner_probas(nlp, data_test[0][0])\n",
    "entity_scores.sort_values('proba', ascending=False)"
   ]
  },
  {
   "cell_type": "code",
   "execution_count": 18,
   "metadata": {},
   "outputs": [
    {
     "data": {
      "text/html": [
       "<div class=\"entities\" style=\"line-height: 2.5\"></br>Primary \n",
       "<mark class=\"entity\" style=\"background: #ddd; padding: 0.45em 0.6em; margin: 0 0.25em; line-height: 1; border-radius: 0.35em; box-decoration-break: clone; -webkit-box-decoration-break: clone\">\n",
       "    tumor\n",
       "    <span style=\"font-size: 0.8em; font-weight: bold; line-height: 1; border-radius: 0.35em; text-transform: uppercase; vertical-align: middle; margin-left: 0.5rem\">Modifier</span>\n",
       "</mark>\n",
       " growth induces host tissue responses that are believed to support and promote \n",
       "<mark class=\"entity\" style=\"background: #ddd; padding: 0.45em 0.6em; margin: 0 0.25em; line-height: 1; border-radius: 0.35em; box-decoration-break: clone; -webkit-box-decoration-break: clone\">\n",
       "    tumor\n",
       "    <span style=\"font-size: 0.8em; font-weight: bold; line-height: 1; border-radius: 0.35em; text-transform: uppercase; vertical-align: middle; margin-left: 0.5rem\">Modifier</span>\n",
       "</mark>\n",
       " progression. Identification of the molecular characteristics of the \n",
       "<mark class=\"entity\" style=\"background: #ddd; padding: 0.45em 0.6em; margin: 0 0.25em; line-height: 1; border-radius: 0.35em; box-decoration-break: clone; -webkit-box-decoration-break: clone\">\n",
       "    tumor\n",
       "    <span style=\"font-size: 0.8em; font-weight: bold; line-height: 1; border-radius: 0.35em; text-transform: uppercase; vertical-align: middle; margin-left: 0.5rem\">Modifier</span>\n",
       "</mark>\n",
       " microenvironment and elucidation of its crosstalk with \n",
       "<mark class=\"entity\" style=\"background: #ddd; padding: 0.45em 0.6em; margin: 0 0.25em; line-height: 1; border-radius: 0.35em; box-decoration-break: clone; -webkit-box-decoration-break: clone\">\n",
       "    tumor\n",
       "    <span style=\"font-size: 0.8em; font-weight: bold; line-height: 1; border-radius: 0.35em; text-transform: uppercase; vertical-align: middle; margin-left: 0.5rem\">Modifier</span>\n",
       "</mark>\n",
       " cells may therefore be crucial for improving our understanding of the processes implicated in \n",
       "<mark class=\"entity\" style=\"background: #ddd; padding: 0.45em 0.6em; margin: 0 0.25em; line-height: 1; border-radius: 0.35em; box-decoration-break: clone; -webkit-box-decoration-break: clone\">\n",
       "    cancer\n",
       "    <span style=\"font-size: 0.8em; font-weight: bold; line-height: 1; border-radius: 0.35em; text-transform: uppercase; vertical-align: middle; margin-left: 0.5rem\">Modifier</span>\n",
       "</mark>\n",
       " progression, identifying potential therapeutic targets, and uncovering stromal gene expression signatures that may predict clinical outcome. A key issue to resolve, therefore, is whether the stromal response to \n",
       "<mark class=\"entity\" style=\"background: #ddd; padding: 0.45em 0.6em; margin: 0 0.25em; line-height: 1; border-radius: 0.35em; box-decoration-break: clone; -webkit-box-decoration-break: clone\">\n",
       "    tumor\n",
       "    <span style=\"font-size: 0.8em; font-weight: bold; line-height: 1; border-radius: 0.35em; text-transform: uppercase; vertical-align: middle; margin-left: 0.5rem\">Modifier</span>\n",
       "</mark>\n",
       " growth is largely a generic phenomenon, irrespective of the \n",
       "<mark class=\"entity\" style=\"background: #ddd; padding: 0.45em 0.6em; margin: 0 0.25em; line-height: 1; border-radius: 0.35em; box-decoration-break: clone; -webkit-box-decoration-break: clone\">\n",
       "    tumor\n",
       "    <span style=\"font-size: 0.8em; font-weight: bold; line-height: 1; border-radius: 0.35em; text-transform: uppercase; vertical-align: middle; margin-left: 0.5rem\">Modifier</span>\n",
       "</mark>\n",
       " type, or whether the response reflects \n",
       "<mark class=\"entity\" style=\"background: #ddd; padding: 0.45em 0.6em; margin: 0 0.25em; line-height: 1; border-radius: 0.35em; box-decoration-break: clone; -webkit-box-decoration-break: clone\">\n",
       "    tumor\n",
       "    <span style=\"font-size: 0.8em; font-weight: bold; line-height: 1; border-radius: 0.35em; text-transform: uppercase; vertical-align: middle; margin-left: 0.5rem\">Modifier</span>\n",
       "</mark>\n",
       "-specific properties. To address similarity or distinction of stromal gene expression changes during cancer progression, oligonucleotide-based Affymetrix microarray technology was used to compare the transcriptomes of laser-microdissected stromal cells derived from invasive human \n",
       "<mark class=\"entity\" style=\"background: #ddd; padding: 0.45em 0.6em; margin: 0 0.25em; line-height: 1; border-radius: 0.35em; box-decoration-break: clone; -webkit-box-decoration-break: clone\">\n",
       "    breast and prostate carcinoma\n",
       "    <span style=\"font-size: 0.8em; font-weight: bold; line-height: 1; border-radius: 0.35em; text-transform: uppercase; vertical-align: middle; margin-left: 0.5rem\">CompositeMention</span>\n",
       "</mark>\n",
       ". \n",
       "<mark class=\"entity\" style=\"background: #ddd; padding: 0.45em 0.6em; margin: 0 0.25em; line-height: 1; border-radius: 0.35em; box-decoration-break: clone; -webkit-box-decoration-break: clone\">\n",
       "    Invasive breast and prostate cancer\n",
       "    <span style=\"font-size: 0.8em; font-weight: bold; line-height: 1; border-radius: 0.35em; text-transform: uppercase; vertical-align: middle; margin-left: 0.5rem\">CompositeMention</span>\n",
       "</mark>\n",
       "-associated \n",
       "<mark class=\"entity\" style=\"background: #ddd; padding: 0.45em 0.6em; margin: 0 0.25em; line-height: 1; border-radius: 0.35em; box-decoration-break: clone; -webkit-box-decoration-break: clone\">\n",
       "    stroma\n",
       "    <span style=\"font-size: 0.8em; font-weight: bold; line-height: 1; border-radius: 0.35em; text-transform: uppercase; vertical-align: middle; margin-left: 0.5rem\">SpecificDisease</span>\n",
       "</mark>\n",
       " was observed to display distinct transcriptomes, with a limited number of shared genes. Interestingly, both \n",
       "<mark class=\"entity\" style=\"background: #ddd; padding: 0.45em 0.6em; margin: 0 0.25em; line-height: 1; border-radius: 0.35em; box-decoration-break: clone; -webkit-box-decoration-break: clone\">\n",
       "    breast and prostate tumor\n",
       "    <span style=\"font-size: 0.8em; font-weight: bold; line-height: 1; border-radius: 0.35em; text-transform: uppercase; vertical-align: middle; margin-left: 0.5rem\">CompositeMention</span>\n",
       "</mark>\n",
       "-specific dysregulated stromal genes were observed to cluster \n",
       "<mark class=\"entity\" style=\"background: #ddd; padding: 0.45em 0.6em; margin: 0 0.25em; line-height: 1; border-radius: 0.35em; box-decoration-break: clone; -webkit-box-decoration-break: clone\">\n",
       "    breast and prostate cancer\n",
       "    <span style=\"font-size: 0.8em; font-weight: bold; line-height: 1; border-radius: 0.35em; text-transform: uppercase; vertical-align: middle; margin-left: 0.5rem\">Modifier</span>\n",
       "</mark>\n",
       " patients, respectively, into two distinct groups with statistically different clinical outcomes. By contrast, a gene signature that was common to the \n",
       "<mark class=\"entity\" style=\"background: #ddd; padding: 0.45em 0.6em; margin: 0 0.25em; line-height: 1; border-radius: 0.35em; box-decoration-break: clone; -webkit-box-decoration-break: clone\">\n",
       "    reactive stroma of both tumor types\n",
       "    <span style=\"font-size: 0.8em; font-weight: bold; line-height: 1; border-radius: 0.35em; text-transform: uppercase; vertical-align: middle; margin-left: 0.5rem\">SpecificDisease</span>\n",
       "</mark>\n",
       " did not have survival predictive value. Univariate Cox analysis identified genes whose expression level was most strongly associated with patient survival. Taken together, these observations suggest that the \n",
       "<mark class=\"entity\" style=\"background: #ddd; padding: 0.45em 0.6em; margin: 0 0.25em; line-height: 1; border-radius: 0.35em; box-decoration-break: clone; -webkit-box-decoration-break: clone\">\n",
       "    tumor\n",
       "    <span style=\"font-size: 0.8em; font-weight: bold; line-height: 1; border-radius: 0.35em; text-transform: uppercase; vertical-align: middle; margin-left: 0.5rem\">Modifier</span>\n",
       "</mark>\n",
       " microenvironment displays distinct features according to the \n",
       "<mark class=\"entity\" style=\"background: #ddd; padding: 0.45em 0.6em; margin: 0 0.25em; line-height: 1; border-radius: 0.35em; box-decoration-break: clone; -webkit-box-decoration-break: clone\">\n",
       "    tumor\n",
       "    <span style=\"font-size: 0.8em; font-weight: bold; line-height: 1; border-radius: 0.35em; text-transform: uppercase; vertical-align: middle; margin-left: 0.5rem\">Modifier</span>\n",
       "</mark>\n",
       " type that provides survival-predictive value.\n",
       "</div>"
      ],
      "text/plain": [
       "<IPython.core.display.HTML object>"
      ]
     },
     "metadata": {},
     "output_type": "display_data"
    }
   ],
   "source": [
    "# test on a document from GEO\n",
    "geo_text = '''\n",
    "Primary tumor growth induces host tissue responses that are believed to support and promote tumor progression. Identification of the molecular characteristics of the tumor microenvironment and elucidation of its crosstalk with tumor cells may therefore be crucial for improving our understanding of the processes implicated in cancer progression, identifying potential therapeutic targets, and uncovering stromal gene expression signatures that may predict clinical outcome. A key issue to resolve, therefore, is whether the stromal response to tumor growth is largely a generic phenomenon, irrespective of the tumor type, or whether the response reflects tumor-specific properties. To address similarity or distinction of stromal gene expression changes during cancer progression, oligonucleotide-based Affymetrix microarray technology was used to compare the transcriptomes of laser-microdissected stromal cells derived from invasive human breast and prostate carcinoma. Invasive breast and prostate cancer-associated stroma was observed to display distinct transcriptomes, with a limited number of shared genes. Interestingly, both breast and prostate tumor-specific dysregulated stromal genes were observed to cluster breast and prostate cancer patients, respectively, into two distinct groups with statistically different clinical outcomes. By contrast, a gene signature that was common to the reactive stroma of both tumor types did not have survival predictive value. Univariate Cox analysis identified genes whose expression level was most strongly associated with patient survival. Taken together, these observations suggest that the tumor microenvironment displays distinct features according to the tumor type that provides survival-predictive value.\n",
    "'''\n",
    "doc = nlp(geo_text)\n",
    "displacy.render(doc, style='ent', jupyter=True)"
   ]
  },
  {
   "cell_type": "code",
   "execution_count": null,
   "metadata": {},
   "outputs": [],
   "source": []
  },
  {
   "cell_type": "code",
   "execution_count": 19,
   "metadata": {},
   "outputs": [
    {
     "name": "stdout",
     "output_type": "stream",
     "text": [
      "disease disease 1.0\n",
      "disease cancer 0.30716813\n",
      "disease diabetes 0.3533679\n",
      "disease gene -0.24855995\n",
      "cancer disease 0.30716813\n",
      "cancer cancer 1.0\n",
      "cancer diabetes 0.49831825\n",
      "cancer gene -0.16820928\n",
      "diabetes disease 0.3533679\n",
      "diabetes cancer 0.49831825\n",
      "diabetes diabetes 1.0\n",
      "diabetes gene -0.12104961\n",
      "gene disease -0.24855995\n",
      "gene cancer -0.16820928\n",
      "gene diabetes -0.12104961\n",
      "gene gene 1.0\n"
     ]
    }
   ],
   "source": [
    "# Explore learned word vectors\n",
    "tokens = nlp('disease cancer diabetes gene')\n",
    "for token1 in tokens:\n",
    "    for token2 in tokens:\n",
    "        print(token1.text, token2.text, token1.similarity(token2))"
   ]
  },
  {
   "cell_type": "code",
   "execution_count": 20,
   "metadata": {},
   "outputs": [
    {
     "data": {
      "text/plain": [
       "(128,)"
      ]
     },
     "execution_count": 20,
     "metadata": {},
     "output_type": "execute_result"
    }
   ],
   "source": [
    "token1.vector.shape"
   ]
  },
  {
   "cell_type": "code",
   "execution_count": null,
   "metadata": {},
   "outputs": [],
   "source": []
  },
  {
   "cell_type": "markdown",
   "metadata": {},
   "source": [
    "# References:\n",
    "\n",
    "- [Extracting Information from Text\n",
    "](https://www.nltk.org/book/ch07.html)\n",
    "- [Introduction to Named Entity Recognition with Examples and Python Code for training Machine Learning model](https://www.commonlounge.com/discussion/2662a77ddcde4102a16d5eb6fa2eff1e)\n",
    "- [NER tutorial using conditional random field](https://sklearn-crfsuite.readthedocs.io/en/latest/tutorial.html#let-s-use-conll-2002-data-to-build-a-ner-system)\n",
    "- [Conditional Random Fields: Probabilistic Models for Segmenting and Labeling Sequence Data](https://dl.acm.org/citation.cfm?id=655813)\n",
    "- [Neural Architectures for Named Entity Recognition](https://arxiv.org/abs/1603.01360) "
   ]
  }
 ],
 "metadata": {
  "kernelspec": {
   "display_name": "Python 3",
   "language": "python",
   "name": "python3"
  },
  "language_info": {
   "codemirror_mode": {
    "name": "ipython",
    "version": 3
   },
   "file_extension": ".py",
   "mimetype": "text/x-python",
   "name": "python",
   "nbconvert_exporter": "python",
   "pygments_lexer": "ipython3",
   "version": "3.6.5"
  }
 },
 "nbformat": 4,
 "nbformat_minor": 2
}
